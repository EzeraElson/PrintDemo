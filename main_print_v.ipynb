{
 "cells": [
  {
   "cell_type": "markdown",
   "id": "d37f7eb6",
   "metadata": {},
   "source": [
    "## print예제입니다"
   ]
  },
  {
   "cell_type": "code",
   "execution_count": 7,
   "id": "1ba50d6e",
   "metadata": {},
   "outputs": [
    {
     "name": "stdout",
     "output_type": "stream",
     "text": [
      "Hello, Python!\n"
     ]
    }
   ],
   "source": [
    "#변수 선언\n",
    "name = \"Alice\"\n",
    "age = 25\n",
    "score = 95.5\n",
    "\n",
    "# 1. 기본출력\n",
    "print(\"Hello, Python!\")\n"
   ]
  },
  {
   "cell_type": "code",
   "execution_count": 8,
   "id": "f1b57f0a",
   "metadata": {},
   "outputs": [
    {
     "name": "stdout",
     "output_type": "stream",
     "text": [
      "Name: Alice Age: 25 Score: 95.5\n"
     ]
    }
   ],
   "source": [
    "# 2. 여러 값 출력\n",
    "print(\"Name:\", name, \"Age:\", age, \"Score:\", score)"
   ]
  },
  {
   "cell_type": "markdown",
   "id": "9de8cac8",
   "metadata": {},
   "source": [
    "## format()함수와 f-string"
   ]
  },
  {
   "cell_type": "code",
   "execution_count": 7,
   "id": "c7b456e5",
   "metadata": {},
   "outputs": [
    {
     "name": "stdout",
     "output_type": "stream",
     "text": [
      "My name is Alice, I am 25 years old, score: 95.5\n",
      "My name is Alice, I am 25 years old, score: 95.5\n",
      "My name is Alice, age 25, score 95.5\n",
      "Score with 2 decimals: 95.50\n"
     ]
    }
   ],
   "source": [
    "# 3. f-string {}안에 변수 입력\n",
    "print(f\"My name is {name}, I am {age} years old, score: {score}\")\n",
    "\n",
    "# 4. format()함수\n",
    "# 4-1. 순서대로 {} 안에 변수 입력\n",
    "print(\"My name is {}, I am {} years old, score: {}\".format(name, age, score))\n",
    "# 4-2. {}안에 순서를 나타내는 숫자를 넣어 #4-1. 보다 유동적으로 입력 가능\n",
    "print(\"My name is {0}, age {1}, score {2}\".format(name, age, score))\n",
    "# 4-3. : 포맷지정자의 시작, .2 소수점 아래 2자리까지 표시\n",
    "print(\"Score with 2 decimals: {:.2f}\".format(score))"
   ]
  },
  {
   "cell_type": "markdown",
   "id": "d0c6edbc",
   "metadata": {},
   "source": [
    "## 문자열과 줄바꿈"
   ]
  },
  {
   "cell_type": "code",
   "execution_count": 8,
   "id": "b970e532",
   "metadata": {},
   "outputs": [
    {
     "name": "stdout",
     "output_type": "stream",
     "text": [
      "Name: Alice, Age: 25, Score: 95.5\n",
      "This is line 1\n",
      "This is line2\n",
      "Hello World!\n",
      "Hello\tWorld\n",
      "It's fine\n",
      "2025-09-23\n"
     ]
    }
   ],
   "source": [
    "# 5. %s : 문자열(string) 자리 표시자, %d : 정수(integer) 자리 표시자, %.1f : 부동소수점(float), 소수점 아래 1자리까지 표시\n",
    "print(\"Name: %s, Age: %d, Score: %.1f\" % (name, age, score))\n",
    "\n",
    "# 6. \\n 줄바꿈\n",
    "print(\"This is line 1\\nThis is line2\")\n",
    "\n",
    "#7. 자동줄바꿈을 공백 한 칸으로 바꿈\n",
    "print(\"Hello\", end=\" \")\n",
    "print(\"World!\")\n",
    "# 7-1. \\t 는 들여쓰기\n",
    "print(\"Hello\\tWorld\")\n",
    "print('It\\'s fine')\n",
    "print(\"2025\", \"09\", \"23\", sep=\"-\")"
   ]
  },
  {
   "cell_type": "markdown",
   "id": "4b80d921",
   "metadata": {},
   "source": [
    "## 연습"
   ]
  },
  {
   "cell_type": "code",
   "execution_count": 9,
   "id": "94ee2796",
   "metadata": {},
   "outputs": [
    {
     "name": "stdout",
     "output_type": "stream",
     "text": [
      "My name is-Alice\n",
      "Date: {'name': 'Alice', 'age': 25, 'score': 95.5}\n",
      "Next year age: 26\n",
      "Score (rounded): 96\n",
      "\n",
      "Student Info:\n",
      "- Name : Alice\n",
      "- Age  : 25\n",
      "- Score: 95.50\n",
      "\n"
     ]
    }
   ],
   "source": [
    "# 7-3. 연습\n",
    "print(\"My name is\", name, sep=\"-\")\n",
    "\n",
    "data = {\"name\": name, \"age\":age, \"score\": score}\n",
    "\n",
    "print(\"Date:\", data)\n",
    "\n",
    "print(f\"Next year age: {age + 1}\")\n",
    "print(f\"Score (rounded): {round(score)}\")\n",
    "\n",
    "print(f\"\"\"\n",
    "Student Info:\n",
    "- Name : {name}\n",
    "- Age  : {age}\n",
    "- Score: {score:.2f}\n",
    "\"\"\")"
   ]
  }
 ],
 "metadata": {
  "kernelspec": {
   "display_name": "base",
   "language": "python",
   "name": "python3"
  },
  "language_info": {
   "codemirror_mode": {
    "name": "ipython",
    "version": 3
   },
   "file_extension": ".py",
   "mimetype": "text/x-python",
   "name": "python",
   "nbconvert_exporter": "python",
   "pygments_lexer": "ipython3",
   "version": "3.9.12"
  }
 },
 "nbformat": 4,
 "nbformat_minor": 5
}
